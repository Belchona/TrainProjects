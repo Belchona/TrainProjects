{
 "cells": [
  {
   "cell_type": "markdown",
   "metadata": {},
   "source": [
    "## Исследование надёжности заёмщиков\n",
    "\n",
    "Заказчик — кредитный отдел банка. \n",
    "Нужно понять, влияет ли семейное положение и количество детей клиента на погашение кредита в срок. \n",
    "Входные данные от заказчика — статистика о платёжеспособности клиентов.\n",
    "\n",
    "Результаты исследования будут использованы для построения модели **кредитного скоринга**."
   ]
  },
  {
   "cell_type": "markdown",
   "metadata": {},
   "source": [
    "### Шаг 1. Откройте файл с данными и изучите общую информацию. "
   ]
  },
  {
   "cell_type": "code",
   "execution_count": 88,
   "metadata": {},
   "outputs": [],
   "source": [
    "import pandas as pd\n",
    "data = pd.read_csv('/datasets/data.csv')"
   ]
  },
  {
   "cell_type": "code",
   "execution_count": 89,
   "metadata": {},
   "outputs": [
    {
     "name": "stdout",
     "output_type": "stream",
     "text": [
      "<class 'pandas.core.frame.DataFrame'>\n",
      "RangeIndex: 21525 entries, 0 to 21524\n",
      "Data columns (total 12 columns):\n",
      "children            21525 non-null int64\n",
      "days_employed       19351 non-null float64\n",
      "dob_years           21525 non-null int64\n",
      "education           21525 non-null object\n",
      "education_id        21525 non-null int64\n",
      "family_status       21525 non-null object\n",
      "family_status_id    21525 non-null int64\n",
      "gender              21525 non-null object\n",
      "income_type         21525 non-null object\n",
      "debt                21525 non-null int64\n",
      "total_income        19351 non-null float64\n",
      "purpose             21525 non-null object\n",
      "dtypes: float64(2), int64(5), object(5)\n",
      "memory usage: 2.0+ MB\n"
     ]
    }
   ],
   "source": [
    "data.info() #просматриваю общую информацию о таблице"
   ]
  },
  {
   "cell_type": "code",
   "execution_count": 90,
   "metadata": {},
   "outputs": [
    {
     "data": {
      "text/html": [
       "<div>\n",
       "<style scoped>\n",
       "    .dataframe tbody tr th:only-of-type {\n",
       "        vertical-align: middle;\n",
       "    }\n",
       "\n",
       "    .dataframe tbody tr th {\n",
       "        vertical-align: top;\n",
       "    }\n",
       "\n",
       "    .dataframe thead th {\n",
       "        text-align: right;\n",
       "    }\n",
       "</style>\n",
       "<table border=\"1\" class=\"dataframe\">\n",
       "  <thead>\n",
       "    <tr style=\"text-align: right;\">\n",
       "      <th></th>\n",
       "      <th>children</th>\n",
       "      <th>days_employed</th>\n",
       "      <th>dob_years</th>\n",
       "      <th>education</th>\n",
       "      <th>education_id</th>\n",
       "      <th>family_status</th>\n",
       "      <th>family_status_id</th>\n",
       "      <th>gender</th>\n",
       "      <th>income_type</th>\n",
       "      <th>debt</th>\n",
       "      <th>total_income</th>\n",
       "      <th>purpose</th>\n",
       "    </tr>\n",
       "  </thead>\n",
       "  <tbody>\n",
       "    <tr>\n",
       "      <td>0</td>\n",
       "      <td>1</td>\n",
       "      <td>-8437.673028</td>\n",
       "      <td>42</td>\n",
       "      <td>высшее</td>\n",
       "      <td>0</td>\n",
       "      <td>женат / замужем</td>\n",
       "      <td>0</td>\n",
       "      <td>F</td>\n",
       "      <td>сотрудник</td>\n",
       "      <td>0</td>\n",
       "      <td>253875.639453</td>\n",
       "      <td>покупка жилья</td>\n",
       "    </tr>\n",
       "    <tr>\n",
       "      <td>1</td>\n",
       "      <td>1</td>\n",
       "      <td>-4024.803754</td>\n",
       "      <td>36</td>\n",
       "      <td>среднее</td>\n",
       "      <td>1</td>\n",
       "      <td>женат / замужем</td>\n",
       "      <td>0</td>\n",
       "      <td>F</td>\n",
       "      <td>сотрудник</td>\n",
       "      <td>0</td>\n",
       "      <td>112080.014102</td>\n",
       "      <td>приобретение автомобиля</td>\n",
       "    </tr>\n",
       "    <tr>\n",
       "      <td>2</td>\n",
       "      <td>0</td>\n",
       "      <td>-5623.422610</td>\n",
       "      <td>33</td>\n",
       "      <td>Среднее</td>\n",
       "      <td>1</td>\n",
       "      <td>женат / замужем</td>\n",
       "      <td>0</td>\n",
       "      <td>M</td>\n",
       "      <td>сотрудник</td>\n",
       "      <td>0</td>\n",
       "      <td>145885.952297</td>\n",
       "      <td>покупка жилья</td>\n",
       "    </tr>\n",
       "    <tr>\n",
       "      <td>3</td>\n",
       "      <td>3</td>\n",
       "      <td>-4124.747207</td>\n",
       "      <td>32</td>\n",
       "      <td>среднее</td>\n",
       "      <td>1</td>\n",
       "      <td>женат / замужем</td>\n",
       "      <td>0</td>\n",
       "      <td>M</td>\n",
       "      <td>сотрудник</td>\n",
       "      <td>0</td>\n",
       "      <td>267628.550329</td>\n",
       "      <td>дополнительное образование</td>\n",
       "    </tr>\n",
       "    <tr>\n",
       "      <td>4</td>\n",
       "      <td>0</td>\n",
       "      <td>340266.072047</td>\n",
       "      <td>53</td>\n",
       "      <td>среднее</td>\n",
       "      <td>1</td>\n",
       "      <td>гражданский брак</td>\n",
       "      <td>1</td>\n",
       "      <td>F</td>\n",
       "      <td>пенсионер</td>\n",
       "      <td>0</td>\n",
       "      <td>158616.077870</td>\n",
       "      <td>сыграть свадьбу</td>\n",
       "    </tr>\n",
       "  </tbody>\n",
       "</table>\n",
       "</div>"
      ],
      "text/plain": [
       "   children  days_employed  dob_years education  education_id  \\\n",
       "0         1   -8437.673028         42    высшее             0   \n",
       "1         1   -4024.803754         36   среднее             1   \n",
       "2         0   -5623.422610         33   Среднее             1   \n",
       "3         3   -4124.747207         32   среднее             1   \n",
       "4         0  340266.072047         53   среднее             1   \n",
       "\n",
       "      family_status  family_status_id gender income_type  debt   total_income  \\\n",
       "0   женат / замужем                 0      F   сотрудник     0  253875.639453   \n",
       "1   женат / замужем                 0      F   сотрудник     0  112080.014102   \n",
       "2   женат / замужем                 0      M   сотрудник     0  145885.952297   \n",
       "3   женат / замужем                 0      M   сотрудник     0  267628.550329   \n",
       "4  гражданский брак                 1      F   пенсионер     0  158616.077870   \n",
       "\n",
       "                      purpose  \n",
       "0               покупка жилья  \n",
       "1     приобретение автомобиля  \n",
       "2               покупка жилья  \n",
       "3  дополнительное образование  \n",
       "4             сыграть свадьбу  "
      ]
     },
     "execution_count": 90,
     "metadata": {},
     "output_type": "execute_result"
    }
   ],
   "source": [
    "data.head() #знакомлюсь с данными"
   ]
  },
  {
   "cell_type": "markdown",
   "metadata": {},
   "source": [
    "### Вывод"
   ]
  },
  {
   "cell_type": "markdown",
   "metadata": {},
   "source": [
    "Найдены пропуски в столбцах days_employed и total_income"
   ]
  },
  {
   "cell_type": "markdown",
   "metadata": {},
   "source": [
    "### Шаг 2. Предобработка данных"
   ]
  },
  {
   "cell_type": "markdown",
   "metadata": {},
   "source": [
    "### Обработка пропусков"
   ]
  },
  {
   "cell_type": "code",
   "execution_count": 91,
   "metadata": {},
   "outputs": [
    {
     "name": "stdout",
     "output_type": "stream",
     "text": [
      "Количество пропусков children               0\n",
      "days_employed       2174\n",
      "dob_years              0\n",
      "education              0\n",
      "education_id           0\n",
      "family_status          0\n",
      "family_status_id       0\n",
      "gender                 0\n",
      "income_type            0\n",
      "debt                   0\n",
      "total_income        2174\n",
      "purpose                0\n",
      "dtype: int64\n",
      "\n",
      "Количество записей с пустым доходом по типу занятости income_type\n",
      "госслужащий         147\n",
      "компаньон           508\n",
      "пенсионер           413\n",
      "предприниматель       1\n",
      "сотрудник          1105\n",
      "Name: income_type, dtype: int64\n",
      "\n",
      "Медиана дохода по типу занятости income_type\n",
      "безработный        131339.751676\n",
      "в декрете           53829.130729\n",
      "госслужащий        150447.935283\n",
      "компаньон          172357.950966\n",
      "пенсионер          118514.486412\n",
      "предприниматель    499163.144947\n",
      "сотрудник          142594.396847\n",
      "студент             98201.625314\n",
      "Name: total_income, dtype: float64\n",
      "\n",
      "Количество пропусков в доходе после заполнения медианным значением по типу занятости 0\n"
     ]
    }
   ],
   "source": [
    "print('Количество пропусков',data.isnull().sum())\n",
    "total_income_NaN = data[data['total_income'].isnull()]\n",
    "print('')\n",
    "print('Количество записей с пустым доходом по типу занятости', total_income_NaN.groupby('income_type')['income_type'].count()) \n",
    "print('')\n",
    "print('Медиана дохода по типу занятости', data.groupby('income_type')['total_income'].median())\n",
    "#считаю средний доход для людей с определенным типом занятости\n",
    "\n",
    "data['total_income'] = data.groupby('income_type')['total_income'].transform(lambda group: group.fillna(group.median()))\n",
    "#заполним пропуск дохода медианным значением по типу занятости\n",
    "print('')\n",
    "print('Количество пропусков в доходе после заполнения медианным значением по типу занятости',data['total_income'].isnull().sum())\n",
    "#проверяем остались ли пропуски\n",
    "                                                "
   ]
  },
  {
   "cell_type": "markdown",
   "metadata": {},
   "source": [
    "### Вывод"
   ]
  },
  {
   "cell_type": "markdown",
   "metadata": {},
   "source": [
    "В таблице есть пропуск дохода и стажа (по 2174 строки).\n",
    "\n",
    "Исследуем состав людей с пустым доходом, сгруппированные по типу дохода:\n",
    "income_type\n",
    "госслужащий         147\n",
    "компаньон           508\n",
    "пенсионер           413\n",
    "предприниматель       1\n",
    "сотрудник          1105\n",
    "\n",
    "По таблице можно увидеть, что все люди с пропущенными данными - работающие. То есть их стаж и доход не должен быть пустым. \n",
    "\n",
    "Что делать с пропусками:\n",
    "- Пропуск в days_employed не критичен для расчетов. Его оставим без изменений\n",
    "- Пропуск в total_income заполним медианным значением дохода по людям с тем же типом дохода (income_type).\n",
    "\n",
    "\n",
    "\n"
   ]
  },
  {
   "cell_type": "markdown",
   "metadata": {},
   "source": [
    "### Замена типа данных"
   ]
  },
  {
   "cell_type": "code",
   "execution_count": 92,
   "metadata": {},
   "outputs": [
    {
     "name": "stdout",
     "output_type": "stream",
     "text": [
      "Пустые значения в столбцах: \n",
      "children               0\n",
      "days_employed       2174\n",
      "dob_years              0\n",
      "education              0\n",
      "education_id           0\n",
      "family_status          0\n",
      "family_status_id       0\n",
      "gender                 0\n",
      "income_type            0\n",
      "debt                   0\n",
      "total_income           0\n",
      "purpose                0\n",
      "dtype: int64\n"
     ]
    }
   ],
   "source": [
    "#print(data.head(3))\n",
    "print('Пустые значения в столбцах: ')\n",
    "print(data.isna().sum())\n",
    "data = data.fillna(0) #Заполняем пустые значения, иначе не получится конвертировать тип данных в int64\n",
    "data['days_employed'] = data['days_employed'].astype('int64') #Меняем тип float на int64 в стаже\n",
    "data['total_income'] = data['total_income'].astype('int64') #Меняем тип float на int64 в дохоже\n",
    "\n"
   ]
  },
  {
   "cell_type": "code",
   "execution_count": 93,
   "metadata": {},
   "outputs": [],
   "source": [
    "#Проверяем, что тип у total_income и days_employed теперь int64:"
   ]
  },
  {
   "cell_type": "code",
   "execution_count": 94,
   "metadata": {},
   "outputs": [
    {
     "name": "stdout",
     "output_type": "stream",
     "text": [
      "<class 'pandas.core.frame.DataFrame'>\n",
      "RangeIndex: 21525 entries, 0 to 21524\n",
      "Data columns (total 12 columns):\n",
      "children            21525 non-null int64\n",
      "days_employed       21525 non-null int64\n",
      "dob_years           21525 non-null int64\n",
      "education           21525 non-null object\n",
      "education_id        21525 non-null int64\n",
      "family_status       21525 non-null object\n",
      "family_status_id    21525 non-null int64\n",
      "gender              21525 non-null object\n",
      "income_type         21525 non-null object\n",
      "debt                21525 non-null int64\n",
      "total_income        21525 non-null int64\n",
      "purpose             21525 non-null object\n",
      "dtypes: int64(7), object(5)\n",
      "memory usage: 2.0+ MB\n"
     ]
    }
   ],
   "source": [
    "data.info() "
   ]
  },
  {
   "cell_type": "code",
   "execution_count": 95,
   "metadata": {},
   "outputs": [],
   "source": [
    "data['days_employed'] = data['days_employed'].abs() \n",
    "#Также меняем отрицательные значения в стаже на положительные по модулю. Это пригодится в вычислениях."
   ]
  },
  {
   "cell_type": "markdown",
   "metadata": {},
   "source": [
    "### Вывод"
   ]
  },
  {
   "cell_type": "markdown",
   "metadata": {},
   "source": [
    "Столбцы, которые по смыслу являются целочисленными, а по факту - имеют тип float:\n",
    "- days_employed\n",
    "- total_income\n",
    "\n",
    "Поменяем для них тип с float на int64 методом astype, который позволяет делать приведение к целочисленному типу."
   ]
  },
  {
   "cell_type": "markdown",
   "metadata": {},
   "source": [
    "### Обработка дубликатов"
   ]
  },
  {
   "cell_type": "code",
   "execution_count": 96,
   "metadata": {},
   "outputs": [
    {
     "name": "stdout",
     "output_type": "stream",
     "text": [
      "Дубликатов в таблице: 54\n",
      "Index(['children', 'days_employed', 'dob_years', 'education', 'education_id',\n",
      "       'family_status', 'family_status_id', 'gender', 'income_type', 'debt',\n",
      "       'total_income', 'purpose'],\n",
      "      dtype='object')\n",
      "\n"
     ]
    }
   ],
   "source": [
    "print ('Дубликатов в таблице:', data.duplicated().sum())\n",
    "#так как в таблице были строки с разным регистром, то приведем все к нижнему регистру\n",
    "print(data.columns)\n",
    "data['education'] = data['education'].str.lower()\n",
    "data['gender'] = data['gender'].str.lower()\n",
    "data['family_status'] = data['family_status'].str.lower()\n",
    "data['income_type'] = data['income_type'].str.lower()\n",
    "data['purpose'] = data['purpose'].str.lower()\n",
    "print('')\n"
   ]
  },
  {
   "cell_type": "code",
   "execution_count": 97,
   "metadata": {},
   "outputs": [
    {
     "name": "stdout",
     "output_type": "stream",
     "text": [
      "проверим, правда ли привели строковые данные к нижнему регистру\n",
      "   children  days_employed  dob_years education  education_id  \\\n",
      "0         1           8437         42    высшее             0   \n",
      "1         1           4024         36   среднее             1   \n",
      "2         0           5623         33   среднее             1   \n",
      "3         3           4124         32   среднее             1   \n",
      "4         0         340266         53   среднее             1   \n",
      "\n",
      "      family_status  family_status_id gender income_type  debt  total_income  \\\n",
      "0   женат / замужем                 0      f   сотрудник     0        253875   \n",
      "1   женат / замужем                 0      f   сотрудник     0        112080   \n",
      "2   женат / замужем                 0      m   сотрудник     0        145885   \n",
      "3   женат / замужем                 0      m   сотрудник     0        267628   \n",
      "4  гражданский брак                 1      f   пенсионер     0        158616   \n",
      "\n",
      "                      purpose  \n",
      "0               покупка жилья  \n",
      "1     приобретение автомобиля  \n",
      "2               покупка жилья  \n",
      "3  дополнительное образование  \n",
      "4             сыграть свадьбу  \n",
      "\n",
      "Теперь дубликатов в таблице: 71\n",
      "\n",
      "Проверяем, что не осталось дубликатов после их удаления: 0\n"
     ]
    }
   ],
   "source": [
    "\n",
    "print('проверим, правда ли привели строковые данные к нижнему регистру')\n",
    "print(data.head(5))\n",
    "\n",
    "print('')\n",
    "print ('Теперь дубликатов в таблице:', data.duplicated().sum())\n",
    "data = data.drop_duplicates().reset_index(drop=True)\n",
    "print('')\n",
    "print ('Проверяем, что не осталось дубликатов после их удаления:', data.duplicated().sum())\n"
   ]
  },
  {
   "cell_type": "markdown",
   "metadata": {},
   "source": [
    "### Вывод"
   ]
  },
  {
   "cell_type": "markdown",
   "metadata": {},
   "source": [
    "Исходное количество дубликатов - 54. \n",
    "Считаем их количество через поиск полных дубликатов строк методом .duplicated().sum().\n",
    "Приводим к нижнему регистру строковые значения в таблице - и дубликатов становится 71.\n",
    "Удаляем дубликаты методом .drop_duplicates().reset_index(drop=True).\n",
    "Проверяем, что они удалились.\n",
    "\n",
    "Вероятные причины появления дубликатов:\n",
    "- либо повторные выгрузки с пересечением данных\n",
    "- либо ошибки в обработке событий\n",
    "- либо сбои в логировании"
   ]
  },
  {
   "cell_type": "markdown",
   "metadata": {},
   "source": [
    "### Лемматизация"
   ]
  },
  {
   "cell_type": "code",
   "execution_count": 98,
   "metadata": {},
   "outputs": [],
   "source": [
    "# pymystem3 импортируется так:\n",
    "from pymystem3 import Mystem\n",
    "m = Mystem()\n",
    "from collections import Counter"
   ]
  },
  {
   "cell_type": "code",
   "execution_count": 99,
   "metadata": {},
   "outputs": [
    {
     "name": "stdout",
     "output_type": "stream",
     "text": [
      "Леммы в списке уникальных целей кредитов:\n",
      "Counter({'покупка': 1, ' ': 1, 'жилье': 1, '\\n': 1})\n",
      "Counter({'приобретение': 1, ' ': 1, 'автомобиль': 1, '\\n': 1})\n",
      "Counter({'дополнительный': 1, ' ': 1, 'образование': 1, '\\n': 1})\n",
      "Counter({'сыграть': 1, ' ': 1, 'свадьба': 1, '\\n': 1})\n",
      "Counter({' ': 2, 'операция': 1, 'с': 1, 'жилье': 1, '\\n': 1})\n",
      "Counter({'образование': 1, '\\n': 1})\n",
      "Counter({' ': 2, 'на': 1, 'проведение': 1, 'свадьба': 1, '\\n': 1})\n",
      "Counter({' ': 3, 'покупка': 1, 'жилье': 1, 'для': 1, 'семья': 1, '\\n': 1})\n",
      "Counter({'покупка': 1, ' ': 1, 'недвижимость': 1, '\\n': 1})\n",
      "Counter({' ': 2, 'покупка': 1, 'коммерческий': 1, 'недвижимость': 1, '\\n': 1})\n",
      "Counter({' ': 2, 'покупка': 1, 'жилой': 1, 'недвижимость': 1, '\\n': 1})\n",
      "Counter({' ': 2, 'строительство': 1, 'собственный': 1, 'недвижимость': 1, '\\n': 1})\n",
      "Counter({'недвижимость': 1, '\\n': 1})\n",
      "Counter({'строительство': 1, ' ': 1, 'недвижимость': 1, '\\n': 1})\n",
      "Counter({' ': 3, 'на': 1, 'покупка': 1, 'подержать': 1, 'автомобиль': 1, '\\n': 1})\n",
      "Counter({' ': 3, 'на': 1, 'покупка': 1, 'свой': 1, 'автомобиль': 1, '\\n': 1})\n",
      "Counter({' ': 3, 'операция': 1, 'с': 1, 'коммерческий': 1, 'недвижимость': 1, '\\n': 1})\n",
      "Counter({' ': 2, 'строительство': 1, 'жилой': 1, 'недвижимость': 1, '\\n': 1})\n",
      "Counter({'жилье': 1, '\\n': 1})\n",
      "Counter({' ': 3, 'операция': 1, 'со': 1, 'свой': 1, 'недвижимость': 1, '\\n': 1})\n",
      "Counter({'автомобиль': 1, '\\n': 1})\n",
      "Counter({'заниматься': 1, ' ': 1, 'образование': 1, '\\n': 1})\n",
      "Counter({' ': 3, 'сделка': 1, 'с': 1, 'подержанный': 1, 'автомобиль': 1, '\\n': 1})\n",
      "Counter({'получение': 1, ' ': 1, 'образование': 1, '\\n': 1})\n",
      "Counter({'автомобиль': 1, '\\n': 1})\n",
      "Counter({'свадьба': 1, '\\n': 1})\n",
      "Counter({' ': 2, 'получение': 1, 'дополнительный': 1, 'образование': 1, '\\n': 1})\n",
      "Counter({' ': 2, 'покупка': 1, 'свой': 1, 'жилье': 1, '\\n': 1})\n",
      "Counter({' ': 2, 'операция': 1, 'с': 1, 'недвижимость': 1, '\\n': 1})\n",
      "Counter({' ': 2, 'получение': 1, 'высокий': 1, 'образование': 1, '\\n': 1})\n",
      "Counter({'свой': 1, ' ': 1, 'автомобиль': 1, '\\n': 1})\n",
      "Counter({' ': 2, 'сделка': 1, 'с': 1, 'автомобиль': 1, '\\n': 1})\n",
      "Counter({'профильный': 1, ' ': 1, 'образование': 1, '\\n': 1})\n",
      "Counter({'высокий': 1, ' ': 1, 'образование': 1, '\\n': 1})\n",
      "Counter({' ': 3, 'покупка': 1, 'жилье': 1, 'для': 1, 'сдача': 1, '\\n': 1})\n",
      "Counter({' ': 2, 'на': 1, 'покупка': 1, 'автомобиль': 1, '\\n': 1})\n",
      "Counter({'ремонт': 1, ' ': 1, 'жилье': 1, '\\n': 1})\n",
      "Counter({' ': 2, 'заниматься': 1, 'высокий': 1, 'образование': 1, '\\n': 1})\n"
     ]
    }
   ],
   "source": [
    "#Лемматизирую и считаю количество лемм в списке уникальных целей кредитов для наглядности\n",
    "list_purpose = data['purpose'].unique() #Выделяю список уникальных целей кредита\n",
    "#print(list_purpose)\n",
    "lemmas = [] \n",
    "print('Леммы в списке уникальных целей кредитов:')\n",
    "for row in list_purpose: \n",
    "    row_text = str(row)\n",
    "    lemmas = m.lemmatize(row_text)\n",
    "    print(Counter(lemmas))"
   ]
  },
  {
   "cell_type": "code",
   "execution_count": 100,
   "metadata": {},
   "outputs": [],
   "source": [
    "lemmas = []    \n",
    "def purpose_group(purpose): #Делаем функцию, которая вернет категорию кредита по цели кредита\n",
    "    row_text = str(purpose)\n",
    "    lemmas = m.lemmatize(row_text)\n",
    "    if ('недвижимость' in lemmas) or ('жилье' in lemmas):\n",
    "        return 'операции с недвижимостью'\n",
    "    if 'автомобиль' in lemmas:\n",
    "        return 'покупка авто'\n",
    "    if 'свадьба' in lemmas:\n",
    "        return 'свадьба'\n",
    "    if 'образование' in lemmas:\n",
    "        return 'обучение'\n",
    "    else: \n",
    "        return 'нет группы цели кредита'\n",
    "\n",
    "data['purpose_group'] = data['purpose'].apply(purpose_group)"
   ]
  },
  {
   "cell_type": "code",
   "execution_count": 101,
   "metadata": {},
   "outputs": [],
   "source": [
    "#Всего заявок по цели кредита:"
   ]
  },
  {
   "cell_type": "code",
   "execution_count": 102,
   "metadata": {},
   "outputs": [
    {
     "data": {
      "text/plain": [
       "операции с недвижимостью    10811\n",
       "покупка авто                 4306\n",
       "обучение                     4013\n",
       "свадьба                      2324\n",
       "Name: purpose_group, dtype: int64"
      ]
     },
     "execution_count": 102,
     "metadata": {},
     "output_type": "execute_result"
    }
   ],
   "source": [
    "data['purpose_group'].value_counts()"
   ]
  },
  {
   "cell_type": "markdown",
   "metadata": {},
   "source": [
    "### Вывод"
   ]
  },
  {
   "cell_type": "markdown",
   "metadata": {},
   "source": [
    "Лемматизация проведена по уникальным значениям столбца 'purpose', который содержит цель кредита.\n",
    "Выделены леммы по каждой цели кредита.\n",
    "\n",
    "В целом, можно увидеть что в списке лемм есть 4 группы целей кредита:\n",
    "- авто\n",
    "- недвижимость\n",
    "- свадьба\n",
    "- обучение.\n",
    "\n",
    "Создан отдельный столбец 'purpose_group'. \n",
    "Каждой строке dataframe присвоена группа цели кредита в зависимости от лемм, найденных в цели кредита.\n",
    "\n",
    "Получено такое количество заявок по группе цели кредита:\n",
    "операции с недвижимостью    10811\n",
    "покупка авто                 4306\n",
    "обучение                     4013\n",
    "свадьба                      2324."
   ]
  },
  {
   "cell_type": "markdown",
   "metadata": {},
   "source": [
    "### Категоризация данных"
   ]
  },
  {
   "cell_type": "code",
   "execution_count": 103,
   "metadata": {},
   "outputs": [],
   "source": [
    "#Посмотрим обзорно на таблицу"
   ]
  },
  {
   "cell_type": "code",
   "execution_count": 104,
   "metadata": {},
   "outputs": [
    {
     "data": {
      "text/html": [
       "<div>\n",
       "<style scoped>\n",
       "    .dataframe tbody tr th:only-of-type {\n",
       "        vertical-align: middle;\n",
       "    }\n",
       "\n",
       "    .dataframe tbody tr th {\n",
       "        vertical-align: top;\n",
       "    }\n",
       "\n",
       "    .dataframe thead th {\n",
       "        text-align: right;\n",
       "    }\n",
       "</style>\n",
       "<table border=\"1\" class=\"dataframe\">\n",
       "  <thead>\n",
       "    <tr style=\"text-align: right;\">\n",
       "      <th></th>\n",
       "      <th>children</th>\n",
       "      <th>days_employed</th>\n",
       "      <th>dob_years</th>\n",
       "      <th>education_id</th>\n",
       "      <th>family_status_id</th>\n",
       "      <th>debt</th>\n",
       "      <th>total_income</th>\n",
       "    </tr>\n",
       "  </thead>\n",
       "  <tbody>\n",
       "    <tr>\n",
       "      <td>count</td>\n",
       "      <td>21454.000000</td>\n",
       "      <td>21454.000000</td>\n",
       "      <td>21454.000000</td>\n",
       "      <td>21454.000000</td>\n",
       "      <td>21454.000000</td>\n",
       "      <td>21454.000000</td>\n",
       "      <td>2.145400e+04</td>\n",
       "    </tr>\n",
       "    <tr>\n",
       "      <td>mean</td>\n",
       "      <td>0.539946</td>\n",
       "      <td>60355.050667</td>\n",
       "      <td>43.271231</td>\n",
       "      <td>0.817097</td>\n",
       "      <td>0.973898</td>\n",
       "      <td>0.081150</td>\n",
       "      <td>1.653196e+05</td>\n",
       "    </tr>\n",
       "    <tr>\n",
       "      <td>std</td>\n",
       "      <td>1.383444</td>\n",
       "      <td>133531.412724</td>\n",
       "      <td>12.570822</td>\n",
       "      <td>0.548674</td>\n",
       "      <td>1.421567</td>\n",
       "      <td>0.273072</td>\n",
       "      <td>9.818730e+04</td>\n",
       "    </tr>\n",
       "    <tr>\n",
       "      <td>min</td>\n",
       "      <td>-1.000000</td>\n",
       "      <td>0.000000</td>\n",
       "      <td>0.000000</td>\n",
       "      <td>0.000000</td>\n",
       "      <td>0.000000</td>\n",
       "      <td>0.000000</td>\n",
       "      <td>2.066700e+04</td>\n",
       "    </tr>\n",
       "    <tr>\n",
       "      <td>25%</td>\n",
       "      <td>0.000000</td>\n",
       "      <td>622.000000</td>\n",
       "      <td>33.000000</td>\n",
       "      <td>1.000000</td>\n",
       "      <td>0.000000</td>\n",
       "      <td>0.000000</td>\n",
       "      <td>1.076230e+05</td>\n",
       "    </tr>\n",
       "    <tr>\n",
       "      <td>50%</td>\n",
       "      <td>0.000000</td>\n",
       "      <td>1821.500000</td>\n",
       "      <td>42.000000</td>\n",
       "      <td>1.000000</td>\n",
       "      <td>0.000000</td>\n",
       "      <td>0.000000</td>\n",
       "      <td>1.425940e+05</td>\n",
       "    </tr>\n",
       "    <tr>\n",
       "      <td>75%</td>\n",
       "      <td>1.000000</td>\n",
       "      <td>4797.000000</td>\n",
       "      <td>53.000000</td>\n",
       "      <td>1.000000</td>\n",
       "      <td>1.000000</td>\n",
       "      <td>0.000000</td>\n",
       "      <td>1.958202e+05</td>\n",
       "    </tr>\n",
       "    <tr>\n",
       "      <td>max</td>\n",
       "      <td>20.000000</td>\n",
       "      <td>401755.000000</td>\n",
       "      <td>75.000000</td>\n",
       "      <td>4.000000</td>\n",
       "      <td>4.000000</td>\n",
       "      <td>1.000000</td>\n",
       "      <td>2.265604e+06</td>\n",
       "    </tr>\n",
       "  </tbody>\n",
       "</table>\n",
       "</div>"
      ],
      "text/plain": [
       "           children  days_employed     dob_years  education_id  \\\n",
       "count  21454.000000   21454.000000  21454.000000  21454.000000   \n",
       "mean       0.539946   60355.050667     43.271231      0.817097   \n",
       "std        1.383444  133531.412724     12.570822      0.548674   \n",
       "min       -1.000000       0.000000      0.000000      0.000000   \n",
       "25%        0.000000     622.000000     33.000000      1.000000   \n",
       "50%        0.000000    1821.500000     42.000000      1.000000   \n",
       "75%        1.000000    4797.000000     53.000000      1.000000   \n",
       "max       20.000000  401755.000000     75.000000      4.000000   \n",
       "\n",
       "       family_status_id          debt  total_income  \n",
       "count      21454.000000  21454.000000  2.145400e+04  \n",
       "mean           0.973898      0.081150  1.653196e+05  \n",
       "std            1.421567      0.273072  9.818730e+04  \n",
       "min            0.000000      0.000000  2.066700e+04  \n",
       "25%            0.000000      0.000000  1.076230e+05  \n",
       "50%            0.000000      0.000000  1.425940e+05  \n",
       "75%            1.000000      0.000000  1.958202e+05  \n",
       "max            4.000000      1.000000  2.265604e+06  "
      ]
     },
     "execution_count": 104,
     "metadata": {},
     "output_type": "execute_result"
    }
   ],
   "source": [
    "data.describe()"
   ]
  },
  {
   "cell_type": "code",
   "execution_count": 105,
   "metadata": {},
   "outputs": [],
   "source": [
    "#Выделяем категории уровням дохода"
   ]
  },
  {
   "cell_type": "code",
   "execution_count": 106,
   "metadata": {},
   "outputs": [],
   "source": [
    "total_income_min = data['total_income'].min()\n",
    "total_income_max = data['total_income'].max()\n",
    "total_income_mean = data['total_income'].mean()\n",
    "\n",
    "def income_level(total_income): #Считаю уровень дохода\n",
    "    if total_income <= total_income_min:\n",
    "        return('Минимальный доход')\n",
    "    if (total_income > total_income_min) & (total_income <= total_income_mean):\n",
    "        return('Доход меньше или равен среднему')\n",
    "    if (total_income > total_income_mean) & (total_income <= total_income_max):\n",
    "        return('Доход больше среднего')\n",
    "    else: \n",
    "        return('Ух ты, больше максимума')\n",
    "\n",
    "data['income_level'] = data['total_income'].apply(income_level)"
   ]
  },
  {
   "cell_type": "code",
   "execution_count": 107,
   "metadata": {},
   "outputs": [],
   "source": [
    "#Выделяем категории количеству детей"
   ]
  },
  {
   "cell_type": "code",
   "execution_count": 108,
   "metadata": {},
   "outputs": [],
   "source": [
    "def children_category(children): \n",
    "    if children <= 0:\n",
    "        return('Нет детей')\n",
    "    if (children >= 1 ) & (children <= 2):\n",
    "        return('1-2 ребенка')\n",
    "    if (children >= 3):\n",
    "        return('3 детей и более')\n",
    "    else: \n",
    "        return('Ошибка вычисления')\n",
    "\n",
    "data['children_category'] = data['children'].apply(children_category)\n",
    "#print(data.sample())"
   ]
  },
  {
   "cell_type": "markdown",
   "metadata": {},
   "source": [
    "### Вывод"
   ]
  },
  {
   "cell_type": "markdown",
   "metadata": {},
   "source": [
    "Для упрощения построения зависимостей и упрощения выводов можно выделить категории уровня дохода:\n",
    "- минимальный\n",
    "- меньше или равен среднему\n",
    "- больше среднего\n",
    "и категории наличия детей:\n",
    "- нет детей\n",
    "- 1-2 ребенка\n",
    "- 3 и более детей"
   ]
  },
  {
   "cell_type": "markdown",
   "metadata": {},
   "source": [
    "### Шаг 3. Ответьте на вопросы"
   ]
  },
  {
   "cell_type": "markdown",
   "metadata": {},
   "source": [
    "- Есть ли зависимость между наличием детей и возвратом кредита в срок?"
   ]
  },
  {
   "cell_type": "code",
   "execution_count": 109,
   "metadata": {},
   "outputs": [
    {
     "name": "stdout",
     "output_type": "stream",
     "text": [
      "Зависимость возврата кредита в срок и наличия детей\n"
     ]
    }
   ],
   "source": [
    "print('Зависимость возврата кредита в срок и наличия детей')\n",
    "data_pivot_children = data.pivot_table(index='children_category', values='debt').sort_values(by='debt', ascending=True)"
   ]
  },
  {
   "cell_type": "code",
   "execution_count": 110,
   "metadata": {},
   "outputs": [
    {
     "data": {
      "text/html": [
       "<div>\n",
       "<style scoped>\n",
       "    .dataframe tbody tr th:only-of-type {\n",
       "        vertical-align: middle;\n",
       "    }\n",
       "\n",
       "    .dataframe tbody tr th {\n",
       "        vertical-align: top;\n",
       "    }\n",
       "\n",
       "    .dataframe thead th {\n",
       "        text-align: right;\n",
       "    }\n",
       "</style>\n",
       "<table border=\"1\" class=\"dataframe\">\n",
       "  <thead>\n",
       "    <tr style=\"text-align: right;\">\n",
       "      <th></th>\n",
       "      <th>debt</th>\n",
       "    </tr>\n",
       "    <tr>\n",
       "      <th>children_category</th>\n",
       "      <th></th>\n",
       "    </tr>\n",
       "  </thead>\n",
       "  <tbody>\n",
       "    <tr>\n",
       "      <td>Нет детей</td>\n",
       "      <td>0.075258</td>\n",
       "    </tr>\n",
       "    <tr>\n",
       "      <td>3 детей и более</td>\n",
       "      <td>0.085526</td>\n",
       "    </tr>\n",
       "    <tr>\n",
       "      <td>1-2 ребенка</td>\n",
       "      <td>0.093003</td>\n",
       "    </tr>\n",
       "  </tbody>\n",
       "</table>\n",
       "</div>"
      ],
      "text/plain": [
       "                       debt\n",
       "children_category          \n",
       "Нет детей          0.075258\n",
       "3 детей и более    0.085526\n",
       "1-2 ребенка        0.093003"
      ]
     },
     "execution_count": 110,
     "metadata": {},
     "output_type": "execute_result"
    }
   ],
   "source": [
    "data_pivot_children"
   ]
  },
  {
   "cell_type": "markdown",
   "metadata": {},
   "source": [
    "### Вывод"
   ]
  },
  {
   "cell_type": "markdown",
   "metadata": {},
   "source": [
    "Есть ли зависимость между наличием детей и возвратом кредита в срок?\n",
    "1. Да. Можно предположить, что заемщики без детей наиболее стабильны с выплатами кредита в срок. Заемщики с количеством детей 1 или 2 - наименее стабильны в выплатах. Вероятно, они еще не привыкли распоряжаться бюджетом при наличии нового дестабилизрующего фактора - ребенка\n",
    "- Наименьшее количество невозвратов в срок у заемщиков без детей. \n",
    "- Немного больше невозвратов у заемщиков с 3 и более детьми.\n",
    "- Еще немного больше возвратов у заемщиков с 1-2 детьми."
   ]
  },
  {
   "cell_type": "markdown",
   "metadata": {},
   "source": [
    "- Есть ли зависимость между семейным положением и возвратом кредита в срок?"
   ]
  },
  {
   "cell_type": "code",
   "execution_count": 111,
   "metadata": {},
   "outputs": [
    {
     "name": "stdout",
     "output_type": "stream",
     "text": [
      "Зависимость возврата кредита в срок и семейного положения\n"
     ]
    }
   ],
   "source": [
    "print('Зависимость возврата кредита в срок и семейного положения')\n",
    "data_pivot_family_status = data.pivot_table(index='family_status', values='debt').sort_values(by='debt', ascending=True)"
   ]
  },
  {
   "cell_type": "code",
   "execution_count": 112,
   "metadata": {},
   "outputs": [
    {
     "data": {
      "text/html": [
       "<div>\n",
       "<style scoped>\n",
       "    .dataframe tbody tr th:only-of-type {\n",
       "        vertical-align: middle;\n",
       "    }\n",
       "\n",
       "    .dataframe tbody tr th {\n",
       "        vertical-align: top;\n",
       "    }\n",
       "\n",
       "    .dataframe thead th {\n",
       "        text-align: right;\n",
       "    }\n",
       "</style>\n",
       "<table border=\"1\" class=\"dataframe\">\n",
       "  <thead>\n",
       "    <tr style=\"text-align: right;\">\n",
       "      <th></th>\n",
       "      <th>debt</th>\n",
       "    </tr>\n",
       "    <tr>\n",
       "      <th>family_status</th>\n",
       "      <th></th>\n",
       "    </tr>\n",
       "  </thead>\n",
       "  <tbody>\n",
       "    <tr>\n",
       "      <td>вдовец / вдова</td>\n",
       "      <td>0.065693</td>\n",
       "    </tr>\n",
       "    <tr>\n",
       "      <td>в разводе</td>\n",
       "      <td>0.071130</td>\n",
       "    </tr>\n",
       "    <tr>\n",
       "      <td>женат / замужем</td>\n",
       "      <td>0.075452</td>\n",
       "    </tr>\n",
       "    <tr>\n",
       "      <td>гражданский брак</td>\n",
       "      <td>0.093471</td>\n",
       "    </tr>\n",
       "    <tr>\n",
       "      <td>не женат / не замужем</td>\n",
       "      <td>0.097509</td>\n",
       "    </tr>\n",
       "  </tbody>\n",
       "</table>\n",
       "</div>"
      ],
      "text/plain": [
       "                           debt\n",
       "family_status                  \n",
       "вдовец / вдова         0.065693\n",
       "в разводе              0.071130\n",
       "женат / замужем        0.075452\n",
       "гражданский брак       0.093471\n",
       "не женат / не замужем  0.097509"
      ]
     },
     "execution_count": 112,
     "metadata": {},
     "output_type": "execute_result"
    }
   ],
   "source": [
    "data_pivot_family_status"
   ]
  },
  {
   "cell_type": "markdown",
   "metadata": {},
   "source": [
    "### Вывод"
   ]
  },
  {
   "cell_type": "markdown",
   "metadata": {},
   "source": [
    "Есть ли зависимость между семейным положением и возвратом кредита в срок?\n",
    "1. Да. Меньше всего невозврата кредита в срок у вдовцов. Находящиеся в браке или разведенныее - следующая по надежности группа. И наименее надежными являются не состоящие в браке.\n",
    "- Наиболее стабильны в возврате кредита в срок вдовы/вдовцы.\n",
    "- Чуть менее стабильны в возврате кредита в срок женатые / замужние и те кто в разводе.\n",
    "- Наименее стабильными в возврате кредита в срок являются состоящие в гражданском браке или не женатые/не замужние."
   ]
  },
  {
   "cell_type": "markdown",
   "metadata": {},
   "source": [
    "- Есть ли зависимость между уровнем дохода и возвратом кредита в срок?"
   ]
  },
  {
   "cell_type": "code",
   "execution_count": 113,
   "metadata": {},
   "outputs": [
    {
     "name": "stdout",
     "output_type": "stream",
     "text": [
      "Зависимость возврата кредита в срок и уровня дохода\n"
     ]
    }
   ],
   "source": [
    "print('Зависимость возврата кредита в срок и уровня дохода')\n",
    "data_pivot_income = data.pivot_table(index='income_level', values='debt').sort_values(by='debt', ascending=True)"
   ]
  },
  {
   "cell_type": "code",
   "execution_count": 114,
   "metadata": {},
   "outputs": [
    {
     "data": {
      "text/html": [
       "<div>\n",
       "<style scoped>\n",
       "    .dataframe tbody tr th:only-of-type {\n",
       "        vertical-align: middle;\n",
       "    }\n",
       "\n",
       "    .dataframe tbody tr th {\n",
       "        vertical-align: top;\n",
       "    }\n",
       "\n",
       "    .dataframe thead th {\n",
       "        text-align: right;\n",
       "    }\n",
       "</style>\n",
       "<table border=\"1\" class=\"dataframe\">\n",
       "  <thead>\n",
       "    <tr style=\"text-align: right;\">\n",
       "      <th></th>\n",
       "      <th>debt</th>\n",
       "    </tr>\n",
       "    <tr>\n",
       "      <th>income_level</th>\n",
       "      <th></th>\n",
       "    </tr>\n",
       "  </thead>\n",
       "  <tbody>\n",
       "    <tr>\n",
       "      <td>Доход больше среднего</td>\n",
       "      <td>0.076368</td>\n",
       "    </tr>\n",
       "    <tr>\n",
       "      <td>Доход меньше или равен среднему</td>\n",
       "      <td>0.084023</td>\n",
       "    </tr>\n",
       "    <tr>\n",
       "      <td>Минимальный доход</td>\n",
       "      <td>1.000000</td>\n",
       "    </tr>\n",
       "  </tbody>\n",
       "</table>\n",
       "</div>"
      ],
      "text/plain": [
       "                                     debt\n",
       "income_level                             \n",
       "Доход больше среднего            0.076368\n",
       "Доход меньше или равен среднему  0.084023\n",
       "Минимальный доход                1.000000"
      ]
     },
     "execution_count": 114,
     "metadata": {},
     "output_type": "execute_result"
    }
   ],
   "source": [
    "data_pivot_income"
   ]
  },
  {
   "cell_type": "markdown",
   "metadata": {},
   "source": [
    "### Вывод"
   ]
  },
  {
   "cell_type": "markdown",
   "metadata": {},
   "source": [
    "Есть ли зависимость между уровнем дохода и возвратом кредита в срок?\n",
    "1. Да, есть зависимость. Чем выше уровень дохода, тем менее вероятен невозврат кредита"
   ]
  },
  {
   "cell_type": "markdown",
   "metadata": {},
   "source": [
    "- Как разные цели кредита влияют на его возврат в срок?"
   ]
  },
  {
   "cell_type": "code",
   "execution_count": 115,
   "metadata": {},
   "outputs": [
    {
     "name": "stdout",
     "output_type": "stream",
     "text": [
      "Зависимость возврата кредита в срок и цели кредита\n"
     ]
    }
   ],
   "source": [
    "print('Зависимость возврата кредита в срок и цели кредита')\n",
    "data_pivot_purpose_group = data.pivot_table(index='purpose_group', values='debt').sort_values(by='debt', ascending=True)\n"
   ]
  },
  {
   "cell_type": "code",
   "execution_count": 116,
   "metadata": {},
   "outputs": [
    {
     "data": {
      "text/html": [
       "<div>\n",
       "<style scoped>\n",
       "    .dataframe tbody tr th:only-of-type {\n",
       "        vertical-align: middle;\n",
       "    }\n",
       "\n",
       "    .dataframe tbody tr th {\n",
       "        vertical-align: top;\n",
       "    }\n",
       "\n",
       "    .dataframe thead th {\n",
       "        text-align: right;\n",
       "    }\n",
       "</style>\n",
       "<table border=\"1\" class=\"dataframe\">\n",
       "  <thead>\n",
       "    <tr style=\"text-align: right;\">\n",
       "      <th></th>\n",
       "      <th>debt</th>\n",
       "    </tr>\n",
       "    <tr>\n",
       "      <th>purpose_group</th>\n",
       "      <th></th>\n",
       "    </tr>\n",
       "  </thead>\n",
       "  <tbody>\n",
       "    <tr>\n",
       "      <td>операции с недвижимостью</td>\n",
       "      <td>0.072334</td>\n",
       "    </tr>\n",
       "    <tr>\n",
       "      <td>свадьба</td>\n",
       "      <td>0.080034</td>\n",
       "    </tr>\n",
       "    <tr>\n",
       "      <td>обучение</td>\n",
       "      <td>0.092200</td>\n",
       "    </tr>\n",
       "    <tr>\n",
       "      <td>покупка авто</td>\n",
       "      <td>0.093590</td>\n",
       "    </tr>\n",
       "  </tbody>\n",
       "</table>\n",
       "</div>"
      ],
      "text/plain": [
       "                              debt\n",
       "purpose_group                     \n",
       "операции с недвижимостью  0.072334\n",
       "свадьба                   0.080034\n",
       "обучение                  0.092200\n",
       "покупка авто              0.093590"
      ]
     },
     "execution_count": 116,
     "metadata": {},
     "output_type": "execute_result"
    }
   ],
   "source": [
    "data_pivot_purpose_group"
   ]
  },
  {
   "cell_type": "markdown",
   "metadata": {},
   "source": [
    "### Вывод"
   ]
  },
  {
   "cell_type": "markdown",
   "metadata": {},
   "source": [
    "- Более надежными для возврата кредита в срок являются цели операции с недвижимостью и свадьба\n",
    "- Менее надежными для возврата кредита в срок являются цели обучение и покупка авто."
   ]
  },
  {
   "cell_type": "markdown",
   "metadata": {},
   "source": [
    "### Шаг 4. Общий вывод"
   ]
  },
  {
   "cell_type": "markdown",
   "metadata": {},
   "source": [
    "Есть факторы, влияющие на возврат кредита в срок.\n",
    "Среди них можно выделить:\n",
    "- Уровень дохода. Чем он выше, тем лучше возвращают кредит в срок\n",
    "- Цель кредита. Недвижимость и свадьба - самые надежные цели кредита. Авто и обучение - менее надежные.\n",
    "- Наличие детей. Отсутствие детей либо количество детей более 3 - показатели более надежного заемщика. При наличии 1-2 детей выплаты менее стабильны. Вероятно, заемщики недостаточно умеют управлять бюджетом, когда детей немного.\n",
    "- Семейное положение. Люди, находящиеся в браке или уже побывавшие в нем, более надежные заемщики. Неженатые / незамужние или находящиеся в гражданском браке - менее надежные.\n"
   ]
  },
  {
   "cell_type": "markdown",
   "metadata": {},
   "source": [
    "### Чек-лист готовности проекта"
   ]
  },
  {
   "cell_type": "markdown",
   "metadata": {},
   "source": [
    "- [x]  открыт файл;\n",
    "- [x]  файл изучен;\n",
    "- [x]  определены пропущенные значения;\n",
    "- [x]  заполнены пропущенные значения;\n",
    "- [x]  есть пояснение какие пропущенные значения обнаружены;\n",
    "- [x]  описаны возможные причины появления пропусков в данных;\n",
    "- [x]  объяснено по какому принципу заполнены пропуски;\n",
    "- [x]  заменен вещественный тип данных на целочисленный;\n",
    "- [x]  есть пояснение какой метод используется для изменения типа данных и почему;\n",
    "- [x]  удалены дубликаты;\n",
    "- [x]  есть пояснение какой метод используется для поиска и удаления дубликатов;\n",
    "- [x]  описаны возможные причины появления дубликатов в данных;\n",
    "- [x]  выделены леммы в значениях столбца с целями получения кредита;\n",
    "- [x]  описан процесс лемматизации;\n",
    "- [x]  данные категоризированы;\n",
    "- [x]  есть объяснение принципа категоризации данных;\n",
    "- [x]  есть ответ на вопрос \"Есть ли зависимость между наличием детей и возвратом кредита в срок?\";\n",
    "- [x]  есть ответ на вопрос \"Есть ли зависимость между семейным положением и возвратом кредита в срок?\";\n",
    "- [x]  есть ответ на вопрос \"Есть ли зависимость между уровнем дохода и возвратом кредита в срок?\";\n",
    "- [x]  есть ответ на вопрос \"Как разные цели кредита влияют на его возврат в срок?\";\n",
    "- [x]  в каждом этапе есть выводы;\n",
    "- [x]  есть общий вывод."
   ]
  }
 ],
 "metadata": {
  "kernelspec": {
   "display_name": "Python 3",
   "language": "python",
   "name": "python3"
  },
  "language_info": {
   "codemirror_mode": {
    "name": "ipython",
    "version": 3
   },
   "file_extension": ".py",
   "mimetype": "text/x-python",
   "name": "python",
   "nbconvert_exporter": "python",
   "pygments_lexer": "ipython3",
   "version": "3.7.7"
  }
 },
 "nbformat": 4,
 "nbformat_minor": 2
}
